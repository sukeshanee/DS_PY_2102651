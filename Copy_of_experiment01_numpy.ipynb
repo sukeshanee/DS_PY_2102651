{
  "nbformat": 4,
  "nbformat_minor": 0,
  "metadata": {
    "colab": {
      "provenance": [],
      "include_colab_link": true
    },
    "kernelspec": {
      "name": "python3",
      "display_name": "Python 3"
    },
    "language_info": {
      "name": "python"
    }
  },
  "cells": [
    {
      "cell_type": "markdown",
      "metadata": {
        "id": "view-in-github",
        "colab_type": "text"
      },
      "source": [
        "<a href=\"https://colab.research.google.com/github/sukeshanee/DS_PY_2102651/blob/main/Copy_of_experiment01_numpy.ipynb\" target=\"_parent\"><img src=\"https://colab.research.google.com/assets/colab-badge.svg\" alt=\"Open In Colab\"/></a>"
      ]
    },
    {
      "cell_type": "markdown",
      "source": [
        "**Experiment No :** 01\n",
        "\n",
        "**Aim :** Learn basics of Numpy library for storing and efficiently processing any external data into python execution pipeline.\n",
        "\n",
        "**Theory :**  **NumPy** (short for Numerical Python) provides an efficient interface to store and operate on dense data buffers. In some ways, *NumPy arrays* are like Python's built-in *list type*, but NumPy arrays provide much more *efficient storage* and *data operations* as the arrays grow larger in size. NumPy arrays form the core of nearly the entire ecosystem of data science tools in Python\n",
        "\n",
        "NumPy is a Python library used for working with arrays. It also has functions for working in domain of linear algebra, fourier transform, and matrices. NumPy was created in 2005 by Travis Oliphant. It is an open source project and you can use it freely.\n",
        "\n",
        "In Python we have lists that serve the purpose of arrays, but they are slow to process. NumPy aims to provide an array object that is up to 50x faster than traditional Python lists. The array object in NumPy is called *ndarray*, it provides a lot of supporting functions that make working with *ndarray* very easy.\n",
        "Arrays are very frequently used in data science, where speed and resources are very important.\n",
        "\n",
        "NumPy arrays are stored at one continuous place in memory unlike lists, so processes can access and manipulate them very efficiently. This behavior is called locality of reference in computer science. This is the main reason why NumPy is faster than lists. Also it is optimized to work with latest CPU architectures.\n",
        "\n"
      ],
      "metadata": {
        "id": "eTOpwleUjhEc"
      }
    },
    {
      "cell_type": "markdown",
      "source": [
        "**Working :**"
      ],
      "metadata": {
        "id": "wXeSkgt6EAur"
      }
    },
    {
      "cell_type": "code",
      "execution_count": null,
      "metadata": {
        "id": "aci_dNppq6Dm",
        "colab": {
          "base_uri": "https://localhost:8080/",
          "height": 35
        },
        "outputId": "20ae5507-94fa-4096-b064-f0194119ad16"
      },
      "outputs": [
        {
          "output_type": "execute_result",
          "data": {
            "text/plain": [
              "'1.21.6'"
            ],
            "application/vnd.google.colaboratory.intrinsic+json": {
              "type": "string"
            }
          },
          "metadata": {},
          "execution_count": 5
        }
      ],
      "source": [
        "import numpy\n",
        "numpy.__version__"
      ]
    },
    {
      "cell_type": "markdown",
      "source": [
        "**A Python List Is More Than Just a List**\n",
        "\n",
        "Let's consider now what happens when we use a Python data structure that holds many Python objects. The standard mutable multi-element container in Python is the list. We can create a list of integers as follows:"
      ],
      "metadata": {
        "id": "o8DgaYQBuiz8"
      }
    },
    {
      "cell_type": "code",
      "source": [
        "L = list(range(100))\n",
        "L"
      ],
      "metadata": {
        "id": "0misdp5Luo8h",
        "colab": {
          "base_uri": "https://localhost:8080/"
        },
        "outputId": "a1b2f39a-e7ef-40e7-8742-0ae27959302b"
      },
      "execution_count": null,
      "outputs": [
        {
          "output_type": "execute_result",
          "data": {
            "text/plain": [
              "[0,\n",
              " 1,\n",
              " 2,\n",
              " 3,\n",
              " 4,\n",
              " 5,\n",
              " 6,\n",
              " 7,\n",
              " 8,\n",
              " 9,\n",
              " 10,\n",
              " 11,\n",
              " 12,\n",
              " 13,\n",
              " 14,\n",
              " 15,\n",
              " 16,\n",
              " 17,\n",
              " 18,\n",
              " 19,\n",
              " 20,\n",
              " 21,\n",
              " 22,\n",
              " 23,\n",
              " 24,\n",
              " 25,\n",
              " 26,\n",
              " 27,\n",
              " 28,\n",
              " 29,\n",
              " 30,\n",
              " 31,\n",
              " 32,\n",
              " 33,\n",
              " 34,\n",
              " 35,\n",
              " 36,\n",
              " 37,\n",
              " 38,\n",
              " 39,\n",
              " 40,\n",
              " 41,\n",
              " 42,\n",
              " 43,\n",
              " 44,\n",
              " 45,\n",
              " 46,\n",
              " 47,\n",
              " 48,\n",
              " 49,\n",
              " 50,\n",
              " 51,\n",
              " 52,\n",
              " 53,\n",
              " 54,\n",
              " 55,\n",
              " 56,\n",
              " 57,\n",
              " 58,\n",
              " 59,\n",
              " 60,\n",
              " 61,\n",
              " 62,\n",
              " 63,\n",
              " 64,\n",
              " 65,\n",
              " 66,\n",
              " 67,\n",
              " 68,\n",
              " 69,\n",
              " 70,\n",
              " 71,\n",
              " 72,\n",
              " 73,\n",
              " 74,\n",
              " 75,\n",
              " 76,\n",
              " 77,\n",
              " 78,\n",
              " 79,\n",
              " 80,\n",
              " 81,\n",
              " 82,\n",
              " 83,\n",
              " 84,\n",
              " 85,\n",
              " 86,\n",
              " 87,\n",
              " 88,\n",
              " 89,\n",
              " 90,\n",
              " 91,\n",
              " 92,\n",
              " 93,\n",
              " 94,\n",
              " 95,\n",
              " 96,\n",
              " 97,\n",
              " 98,\n",
              " 99]"
            ]
          },
          "metadata": {},
          "execution_count": 4
        }
      ]
    },
    {
      "cell_type": "code",
      "source": [],
      "metadata": {
        "id": "ilzv2qj8EkqZ"
      },
      "execution_count": null,
      "outputs": []
    },
    {
      "cell_type": "code",
      "source": [
        "type(L[0])"
      ],
      "metadata": {
        "id": "nEY3A3fKur-v",
        "colab": {
          "base_uri": "https://localhost:8080/"
        },
        "outputId": "95d9627d-c1ec-4f8e-b1b0-fddab7335f38"
      },
      "execution_count": null,
      "outputs": [
        {
          "output_type": "execute_result",
          "data": {
            "text/plain": [
              "int"
            ]
          },
          "metadata": {},
          "execution_count": 7
        }
      ]
    },
    {
      "cell_type": "code",
      "source": [
        "L2 = [str(c) for c in L]\n",
        "L2"
      ],
      "metadata": {
        "id": "peiODg-wu0UP",
        "colab": {
          "base_uri": "https://localhost:8080/"
        },
        "outputId": "a2f41022-67dc-46d4-a7a8-a6aa7a9ae7d0"
      },
      "execution_count": null,
      "outputs": [
        {
          "output_type": "execute_result",
          "data": {
            "text/plain": [
              "['0',\n",
              " '1',\n",
              " '2',\n",
              " '3',\n",
              " '4',\n",
              " '5',\n",
              " '6',\n",
              " '7',\n",
              " '8',\n",
              " '9',\n",
              " '10',\n",
              " '11',\n",
              " '12',\n",
              " '13',\n",
              " '14',\n",
              " '15',\n",
              " '16',\n",
              " '17',\n",
              " '18',\n",
              " '19',\n",
              " '20',\n",
              " '21',\n",
              " '22',\n",
              " '23',\n",
              " '24',\n",
              " '25',\n",
              " '26',\n",
              " '27',\n",
              " '28',\n",
              " '29',\n",
              " '30',\n",
              " '31',\n",
              " '32',\n",
              " '33',\n",
              " '34',\n",
              " '35',\n",
              " '36',\n",
              " '37',\n",
              " '38',\n",
              " '39',\n",
              " '40',\n",
              " '41',\n",
              " '42',\n",
              " '43',\n",
              " '44',\n",
              " '45',\n",
              " '46',\n",
              " '47',\n",
              " '48',\n",
              " '49',\n",
              " '50',\n",
              " '51',\n",
              " '52',\n",
              " '53',\n",
              " '54',\n",
              " '55',\n",
              " '56',\n",
              " '57',\n",
              " '58',\n",
              " '59',\n",
              " '60',\n",
              " '61',\n",
              " '62',\n",
              " '63',\n",
              " '64',\n",
              " '65',\n",
              " '66',\n",
              " '67',\n",
              " '68',\n",
              " '69',\n",
              " '70',\n",
              " '71',\n",
              " '72',\n",
              " '73',\n",
              " '74',\n",
              " '75',\n",
              " '76',\n",
              " '77',\n",
              " '78',\n",
              " '79',\n",
              " '80',\n",
              " '81',\n",
              " '82',\n",
              " '83',\n",
              " '84',\n",
              " '85',\n",
              " '86',\n",
              " '87',\n",
              " '88',\n",
              " '89',\n",
              " '90',\n",
              " '91',\n",
              " '92',\n",
              " '93',\n",
              " '94',\n",
              " '95',\n",
              " '96',\n",
              " '97',\n",
              " '98',\n",
              " '99']"
            ]
          },
          "metadata": {},
          "execution_count": 6
        }
      ]
    },
    {
      "cell_type": "code",
      "source": [
        "type(L2[0])"
      ],
      "metadata": {
        "id": "VtIcV8pVu29N",
        "colab": {
          "base_uri": "https://localhost:8080/"
        },
        "outputId": "1a90cf30-08a6-41d9-a811-3ec65cb4167b"
      },
      "execution_count": null,
      "outputs": [
        {
          "output_type": "execute_result",
          "data": {
            "text/plain": [
              "str"
            ]
          },
          "metadata": {},
          "execution_count": 8
        }
      ]
    },
    {
      "cell_type": "code",
      "source": [
        "L3 = [True, \"2\", 3.0, 4,\"sukeshanee\"]\n",
        "[type(item) for item in L3]"
      ],
      "metadata": {
        "id": "yvmZGyteu6vH",
        "colab": {
          "base_uri": "https://localhost:8080/"
        },
        "outputId": "1043757a-83b9-46cf-8215-07483bba5404"
      },
      "execution_count": null,
      "outputs": [
        {
          "output_type": "execute_result",
          "data": {
            "text/plain": [
              "[bool, str, float, int, str]"
            ]
          },
          "metadata": {},
          "execution_count": 9
        }
      ]
    },
    {
      "cell_type": "markdown",
      "source": [
        "## Fixed-Type Arrays in Python\n",
        "\n",
        "Python offers several different options for storing data in efficient, fixed-type data buffers.\n",
        "The built-in ``array`` module (available since Python 3.3) can be used to create dense arrays of a uniform type:"
      ],
      "metadata": {
        "id": "WigRtVzrvEoy"
      }
    },
    {
      "cell_type": "code",
      "source": [
        "import array\n",
        "L = list(range(15))\n",
        "A = array.array('i', L)\n",
        "A"
      ],
      "metadata": {
        "id": "Mtu3TuuGvKZW",
        "colab": {
          "base_uri": "https://localhost:8080/"
        },
        "outputId": "c672c285-0dff-457e-fa8d-b75b97896872"
      },
      "execution_count": null,
      "outputs": [
        {
          "output_type": "execute_result",
          "data": {
            "text/plain": [
              "array('i', [0, 1, 2, 3, 4, 5, 6, 7, 8, 9, 10, 11, 12, 13, 14])"
            ]
          },
          "metadata": {},
          "execution_count": 10
        }
      ]
    },
    {
      "cell_type": "markdown",
      "source": [
        "\n",
        "## Creating Arrays from Python Lists\n",
        "\n",
        "First, we can use ``np.array`` to create arrays from Python lists:"
      ],
      "metadata": {
        "id": "xCEKacaQwcb2"
      }
    },
    {
      "cell_type": "code",
      "source": [
        "import numpy as np\n",
        "# integer array:\n",
        "np.array([1, 4, 2, 5, 3])"
      ],
      "metadata": {
        "id": "Df2kJJVKwd1V",
        "colab": {
          "base_uri": "https://localhost:8080/"
        },
        "outputId": "71c30462-8713-4134-cb9d-8e5e8dbc2d44"
      },
      "execution_count": null,
      "outputs": [
        {
          "output_type": "execute_result",
          "data": {
            "text/plain": [
              "array([1, 4, 2, 5, 3])"
            ]
          },
          "metadata": {},
          "execution_count": 11
        }
      ]
    },
    {
      "cell_type": "markdown",
      "source": [
        "Remember that unlike Python lists, NumPy is constrained to arrays that all contain the same type. If types do not match, NumPy will upcast if possible (here, integers are up-cast to floating point):"
      ],
      "metadata": {
        "id": "aSXNgXDbwqyU"
      }
    },
    {
      "cell_type": "code",
      "source": [
        "np.array([3.14, 4, 2, 3])"
      ],
      "metadata": {
        "id": "SFoqtm67wqd4",
        "colab": {
          "base_uri": "https://localhost:8080/"
        },
        "outputId": "6b4a8b2a-0f0a-48cd-851b-b40f516ebf81"
      },
      "execution_count": null,
      "outputs": [
        {
          "output_type": "execute_result",
          "data": {
            "text/plain": [
              "array([3.14, 4.  , 2.  , 3.  ])"
            ]
          },
          "metadata": {},
          "execution_count": 12
        }
      ]
    },
    {
      "cell_type": "markdown",
      "source": [
        "If we want to explicitly set the data type of the resulting array, we can use the ``dtype`` keyword:"
      ],
      "metadata": {
        "id": "zCM50ofhwxy-"
      }
    },
    {
      "cell_type": "code",
      "source": [
        "np.array([1, 2, 3, 4], dtype='float32')"
      ],
      "metadata": {
        "id": "58Ra0aDMw2oL",
        "colab": {
          "base_uri": "https://localhost:8080/"
        },
        "outputId": "4ec9b11a-63fd-4ed7-b090-907fcc12d3b1"
      },
      "execution_count": null,
      "outputs": [
        {
          "output_type": "execute_result",
          "data": {
            "text/plain": [
              "array([1., 2., 3., 4.], dtype=float32)"
            ]
          },
          "metadata": {},
          "execution_count": 13
        }
      ]
    },
    {
      "cell_type": "markdown",
      "source": [
        "Finally, unlike Python lists, NumPy arrays can explicitly be multi-dimensional; here's one way of initializing a multidimensional array using a list of lists:"
      ],
      "metadata": {
        "id": "TTFC1GqJxfzn"
      }
    },
    {
      "cell_type": "code",
      "source": [
        "# nested lists result in multi-dimensional arrays\n",
        "np.array([range(i, i + 3) for i in [2, 4, 6]])"
      ],
      "metadata": {
        "id": "EPgUUQZ-xYpd",
        "colab": {
          "base_uri": "https://localhost:8080/"
        },
        "outputId": "7024e5a2-6dff-4d47-953b-9c7c0d71306b"
      },
      "execution_count": null,
      "outputs": [
        {
          "output_type": "execute_result",
          "data": {
            "text/plain": [
              "array([[2, 3, 4],\n",
              "       [4, 5, 6],\n",
              "       [6, 7, 8]])"
            ]
          },
          "metadata": {},
          "execution_count": 14
        }
      ]
    },
    {
      "cell_type": "markdown",
      "source": [
        "## Creating Arrays from Scratch\n",
        "\n",
        "Especially for larger arrays, it is more efficient to create arrays from scratch using routines built into NumPy.\n",
        "Here are several examples:"
      ],
      "metadata": {
        "id": "c20zcRzBxxey"
      }
    },
    {
      "cell_type": "code",
      "source": [
        "# Create a length-10 integer array filled with zeros\n",
        "np.zeros(10, dtype=int)"
      ],
      "metadata": {
        "id": "4Df8zJxFxBdq",
        "colab": {
          "base_uri": "https://localhost:8080/"
        },
        "outputId": "5f79bda1-fde2-4525-bd54-b2f7525a4617"
      },
      "execution_count": null,
      "outputs": [
        {
          "output_type": "execute_result",
          "data": {
            "text/plain": [
              "array([0, 0, 0, 0, 0, 0, 0, 0, 0, 0])"
            ]
          },
          "metadata": {},
          "execution_count": 15
        }
      ]
    },
    {
      "cell_type": "code",
      "source": [
        "# Create a 3x5 floating-point array filled with ones\n",
        "np.ones((3, 5), dtype=float)"
      ],
      "metadata": {
        "id": "YeqU_GSexC5m",
        "colab": {
          "base_uri": "https://localhost:8080/"
        },
        "outputId": "d5ffc701-2c2e-4e85-96e9-524a4a5f0a68"
      },
      "execution_count": null,
      "outputs": [
        {
          "output_type": "execute_result",
          "data": {
            "text/plain": [
              "array([[1., 1., 1., 1., 1.],\n",
              "       [1., 1., 1., 1., 1.],\n",
              "       [1., 1., 1., 1., 1.]])"
            ]
          },
          "metadata": {},
          "execution_count": 16
        }
      ]
    },
    {
      "cell_type": "code",
      "source": [
        "# Create a 3x5 array filled with 3.14\n",
        "np.full((3, 5), 3.14)"
      ],
      "metadata": {
        "id": "JvZL6KtAxKDP",
        "colab": {
          "base_uri": "https://localhost:8080/"
        },
        "outputId": "bad355e7-91cc-41ef-f265-1cca03238369"
      },
      "execution_count": null,
      "outputs": [
        {
          "output_type": "execute_result",
          "data": {
            "text/plain": [
              "array([[3.14, 3.14, 3.14, 3.14, 3.14],\n",
              "       [3.14, 3.14, 3.14, 3.14, 3.14],\n",
              "       [3.14, 3.14, 3.14, 3.14, 3.14]])"
            ]
          },
          "metadata": {},
          "execution_count": 17
        }
      ]
    },
    {
      "cell_type": "code",
      "source": [
        "# Create an array filled with a linear sequence\n",
        "# Starting at 0, ending at 20, stepping by 2\n",
        "# (this is similar to the built-in range() function)\n",
        "np.arange(0, 20, 2)"
      ],
      "metadata": {
        "id": "8cljdE71xNvR",
        "colab": {
          "base_uri": "https://localhost:8080/"
        },
        "outputId": "65b95a1d-7e89-4fc3-a499-071b790e6ef8"
      },
      "execution_count": null,
      "outputs": [
        {
          "output_type": "execute_result",
          "data": {
            "text/plain": [
              "array([ 0,  2,  4,  6,  8, 10, 12, 14, 16, 18])"
            ]
          },
          "metadata": {},
          "execution_count": 18
        }
      ]
    },
    {
      "cell_type": "code",
      "source": [
        "# Create an array of five values evenly spaced between 0 and 1\n",
        "np.linspace(0, 1, 5)"
      ],
      "metadata": {
        "id": "83UbZarFxS6b",
        "colab": {
          "base_uri": "https://localhost:8080/"
        },
        "outputId": "d63da74d-e028-47e2-8473-2f07697bc1ba"
      },
      "execution_count": null,
      "outputs": [
        {
          "output_type": "execute_result",
          "data": {
            "text/plain": [
              "array([0.  , 0.25, 0.5 , 0.75, 1.  ])"
            ]
          },
          "metadata": {},
          "execution_count": 19
        }
      ]
    },
    {
      "cell_type": "code",
      "source": [
        "# Create a 3x3 array of uniformly distributed\n",
        "# random values between 0 and 1\n",
        "np.random.random((3, 3))"
      ],
      "metadata": {
        "id": "QXEyH8ZTxW0G",
        "colab": {
          "base_uri": "https://localhost:8080/"
        },
        "outputId": "d2eeb911-1f3e-4775-d584-10b8593110fa"
      },
      "execution_count": null,
      "outputs": [
        {
          "output_type": "execute_result",
          "data": {
            "text/plain": [
              "array([[0.29660756, 0.87891926, 0.60484688],\n",
              "       [0.77677668, 0.88315892, 0.50983181],\n",
              "       [0.44121576, 0.73248605, 0.42168951]])"
            ]
          },
          "metadata": {},
          "execution_count": 20
        }
      ]
    },
    {
      "cell_type": "code",
      "source": [
        "# Create a 3x3 array of normally distributed random values\n",
        "# with mean 0 and standard deviation 1\n",
        "np.random.normal(0, 1, (3, 3))"
      ],
      "metadata": {
        "id": "04T8a-AAxbV7",
        "colab": {
          "base_uri": "https://localhost:8080/"
        },
        "outputId": "00fe8993-1d90-42e1-8309-54d3e676c3d2"
      },
      "execution_count": null,
      "outputs": [
        {
          "output_type": "execute_result",
          "data": {
            "text/plain": [
              "array([[ 0.75572801, -0.98085353,  1.24251263],\n",
              "       [ 1.0719146 , -1.2919224 , -1.45017728],\n",
              "       [-0.03029854,  0.07032092,  0.28490446]])"
            ]
          },
          "metadata": {},
          "execution_count": 21
        }
      ]
    },
    {
      "cell_type": "code",
      "source": [
        "# Create a 3x3 array of random integers in the interval [0, 10)\n",
        "np.random.randint(1, 50, (3,4,2))"
      ],
      "metadata": {
        "id": "FB6_jCanxez6",
        "colab": {
          "base_uri": "https://localhost:8080/"
        },
        "outputId": "3c7943ad-75ed-4e47-9477-022cec81d7cf"
      },
      "execution_count": null,
      "outputs": [
        {
          "output_type": "execute_result",
          "data": {
            "text/plain": [
              "array([[[ 5, 34],\n",
              "        [ 2, 42],\n",
              "        [46,  1],\n",
              "        [ 5, 37]],\n",
              "\n",
              "       [[ 3, 12],\n",
              "        [ 9, 40],\n",
              "        [41, 34],\n",
              "        [38,  1]],\n",
              "\n",
              "       [[ 5, 21],\n",
              "        [32, 43],\n",
              "        [ 2, 35],\n",
              "        [ 6, 45]]])"
            ]
          },
          "metadata": {},
          "execution_count": 22
        }
      ]
    },
    {
      "cell_type": "code",
      "source": [
        "# Create a 3x3 identity matrix\n",
        "np.eye(5)"
      ],
      "metadata": {
        "id": "S8-Pk3q5xmdO",
        "colab": {
          "base_uri": "https://localhost:8080/"
        },
        "outputId": "393b1f17-9db6-49af-8d69-bbd95fbbc11d"
      },
      "execution_count": null,
      "outputs": [
        {
          "output_type": "execute_result",
          "data": {
            "text/plain": [
              "array([[1., 0., 0., 0., 0.],\n",
              "       [0., 1., 0., 0., 0.],\n",
              "       [0., 0., 1., 0., 0.],\n",
              "       [0., 0., 0., 1., 0.],\n",
              "       [0., 0., 0., 0., 1.]])"
            ]
          },
          "metadata": {},
          "execution_count": 23
        }
      ]
    },
    {
      "cell_type": "code",
      "source": [
        "# Create an uninitialized array of three integers\n",
        "# The values will be whatever happens to already exist at that memory location\n",
        "np.empty(3)"
      ],
      "metadata": {
        "id": "1OgzEhM2xtF5",
        "colab": {
          "base_uri": "https://localhost:8080/"
        },
        "outputId": "a1caa1ff-2d38-4116-d1d1-2fbbdb1ed3b6"
      },
      "execution_count": null,
      "outputs": [
        {
          "output_type": "execute_result",
          "data": {
            "text/plain": [
              "array([1.5e-323, 2.0e-323, 9.9e-324])"
            ]
          },
          "metadata": {},
          "execution_count": 84
        }
      ]
    },
    {
      "cell_type": "markdown",
      "source": [
        "## NumPy Standard Data Types\n",
        "\n",
        "NumPy arrays contain values of a single type, so it is important to have detailed knowledge of those types and their limitations.\n",
        "Because NumPy is built in C, the types will be familiar to users of C, Fortran, and other related languages.\n",
        "\n",
        "The standard NumPy data types are listed in the following table.\n",
        "Note that when constructing an array, they can be specified using a string:\n",
        "\n",
        "```python\n",
        "np.zeros(10, dtype='int16')\n",
        "```\n",
        "\n",
        "Or using the associated NumPy object:\n",
        "\n",
        "```python\n",
        "np.zeros(10, dtype=np.int16)\n",
        "```\n",
        "Following table shows all datatypes for Numpy Array\n",
        "\n",
        "| Data type\t    | Description |\n",
        "|---------------|-------------|\n",
        "| ``bool_``     | Boolean (True or False) stored as a byte |\n",
        "| ``int_``      | Default integer type (same as C ``long``; normally either ``int64`` or ``int32``)| \n",
        "| ``intc``      | Identical to C ``int`` (normally ``int32`` or ``int64``)| \n",
        "| ``intp``      | Integer used for indexing (same as C ``ssize_t``; normally either ``int32`` or ``int64``)| \n",
        "| ``int8``      | Byte (-128 to 127)| \n",
        "| ``int16``     | Integer (-32768 to 32767)|\n",
        "| ``int32``     | Integer (-2147483648 to 2147483647)|\n",
        "| ``int64``     | Integer (-9223372036854775808 to 9223372036854775807)| \n",
        "| ``uint8``     | Unsigned integer (0 to 255)| \n",
        "| ``uint16``    | Unsigned integer (0 to 65535)| \n",
        "| ``uint32``    | Unsigned integer (0 to 4294967295)| \n",
        "| ``uint64``    | Unsigned integer (0 to 18446744073709551615)| \n",
        "| ``float_``    | Shorthand for ``float64``.| \n",
        "| ``float16``   | Half precision float: sign bit, 5 bits exponent, 10 bits mantissa| \n",
        "| ``float32``   | Single precision float: sign bit, 8 bits exponent, 23 bits mantissa| \n",
        "| ``float64``   | Double precision float: sign bit, 11 bits exponent, 52 bits mantissa| \n",
        "| ``complex_``  | Shorthand for ``complex128``.| \n",
        "| ``complex64`` | Complex number, represented by two 32-bit floats| \n",
        "| ``complex128``| Complex number, represented by two 64-bit floats| "
      ],
      "metadata": {
        "id": "FhIMJjgcx1eD"
      }
    },
    {
      "cell_type": "markdown",
      "source": [
        "## NumPy Array Attributes\n",
        "\n",
        "We will learn about important Attributes with NumPy Array objects\n",
        "\n",
        "Each array object has attributes ``ndim`` (the number of dimensions), ``shape`` (the size of each dimension), and ``size`` (the total size of the array), the ``dtype``, the data type of the array :"
      ],
      "metadata": {
        "id": "_fIZQ4AKzf3e"
      }
    },
    {
      "cell_type": "code",
      "source": [
        "#Consider following sample arrays\n",
        "np.random.seed(0)  # seed for reproducibility\n",
        "\n",
        "x1 = np.random.randint(10, size=6)  # One-dimensional array\n",
        "x2 = np.random.randint(10, size=(3, 4))  # Two-dimensional array\n",
        "x3 = np.random.randint(10, size=(3, 4, 5))  # Three-dimensional array"
      ],
      "metadata": {
        "id": "ord_E53rx0Yx"
      },
      "execution_count": null,
      "outputs": []
    },
    {
      "cell_type": "code",
      "source": [
        "print(\"x3 ndim: \", x3.ndim)\n",
        "print(\"x3 shape:\", x3.shape)\n",
        "print(\"x3 size: \", x3.size)\n",
        "print(\"dtype:\", x3.dtype)"
      ],
      "metadata": {
        "id": "X4avCd82z3nZ",
        "colab": {
          "base_uri": "https://localhost:8080/"
        },
        "outputId": "d2391062-cf24-4e25-f862-d0c5cb6a5736"
      },
      "execution_count": null,
      "outputs": [
        {
          "output_type": "stream",
          "name": "stdout",
          "text": [
            "x3 ndim:  3\n",
            "x3 shape: (3, 4, 5)\n",
            "x3 size:  60\n",
            "dtype: int64\n"
          ]
        }
      ]
    },
    {
      "cell_type": "markdown",
      "source": [
        "Other attributes include ``itemsize``, which lists the size (in bytes) of each array element, and ``nbytes``, which lists the total size (in bytes) of the array:"
      ],
      "metadata": {
        "id": "gD5y17ur0SUY"
      }
    },
    {
      "cell_type": "code",
      "source": [
        "print(\"itemsize:\", x3.itemsize, \"bytes\")\n",
        "print(\"nbytes:\", x3.nbytes, \"bytes\")"
      ],
      "metadata": {
        "id": "iIACfZGJz88F",
        "colab": {
          "base_uri": "https://localhost:8080/"
        },
        "outputId": "a2d7fc75-fe3a-4d8f-f983-e36d47009d06"
      },
      "execution_count": null,
      "outputs": [
        {
          "output_type": "stream",
          "name": "stdout",
          "text": [
            "itemsize: 8 bytes\n",
            "nbytes: 480 bytes\n"
          ]
        }
      ]
    },
    {
      "cell_type": "markdown",
      "source": [
        "## Array Indexing: Accessing Single Elements\n",
        "Next we learn how to access single element in a NumPy array\n",
        "NumPy follows indexing similar to that of Python in a dimension index starts at 0 till length-1 \n",
        "\n",
        "So x1[0] will mean 0th element and x1[5] means sixth element in array x1.\n",
        "\n",
        "We can use negative index value to indicate accessing elements from back side of array.\n",
        "\n",
        "In a multi-dimensional array, items can be accessed using a comma-separated tuple of indices as shown in below code cell."
      ],
      "metadata": {
        "id": "QhHVb0nMGphd"
      }
    },
    {
      "cell_type": "code",
      "source": [
        "# acessing third list's first element\n",
        "x2[2, 0]"
      ],
      "metadata": {
        "id": "DYhobFMoJV9c",
        "colab": {
          "base_uri": "https://localhost:8080/"
        },
        "outputId": "c9db1a63-22a5-47c3-ac8f-2661dc635f8f"
      },
      "execution_count": null,
      "outputs": [
        {
          "output_type": "execute_result",
          "data": {
            "text/plain": [
              "1"
            ]
          },
          "metadata": {},
          "execution_count": 29
        }
      ]
    },
    {
      "cell_type": "code",
      "source": [
        "# accessing second last element from second list \n",
        "x2[1, -2]"
      ],
      "metadata": {
        "id": "dm0FVTT8JlL4",
        "colab": {
          "base_uri": "https://localhost:8080/"
        },
        "outputId": "699fd032-30cc-4ccb-ab60-8bf7141e11fc"
      },
      "execution_count": null,
      "outputs": [
        {
          "output_type": "execute_result",
          "data": {
            "text/plain": [
              "8"
            ]
          },
          "metadata": {},
          "execution_count": 30
        }
      ]
    },
    {
      "cell_type": "code",
      "source": [
        "# modifying value at a perticular index\n",
        "x2[0, 0] = 12\n",
        "x2"
      ],
      "metadata": {
        "id": "8McLQYbmJ1gb",
        "colab": {
          "base_uri": "https://localhost:8080/"
        },
        "outputId": "fe1c1d06-f26f-4849-9376-d633ab903ece"
      },
      "execution_count": null,
      "outputs": [
        {
          "output_type": "execute_result",
          "data": {
            "text/plain": [
              "array([[12,  5,  2,  4],\n",
              "       [ 7,  6,  8,  8],\n",
              "       [ 1,  6,  7,  7]])"
            ]
          },
          "metadata": {},
          "execution_count": 31
        }
      ]
    },
    {
      "cell_type": "markdown",
      "source": [
        "## Array Slicing: Accessing Subarrays\n",
        "\n",
        "Just as we can use square brackets to access individual array elements, we can also use them to access subarrays with the *slice* notation, marked by the colon (``:``) character.\n",
        "The NumPy slicing syntax follows that of the standard Python list; to access a slice of an array ``x``, use this:\n",
        "``` python\n",
        "x[start:stop:step]\n",
        "```\n",
        "If any of these are unspecified, they default to the values ``start=0``, ``stop=``*``size of dimension``*, ``step=1``.\n",
        "We'll take a look at accessing sub-arrays in one dimension and in multiple dimensions."
      ],
      "metadata": {
        "id": "hwr6_1yvKQf9"
      }
    },
    {
      "cell_type": "markdown",
      "source": [
        "### One-dimensional subarrays"
      ],
      "metadata": {
        "id": "aEoCkO4ZLT7W"
      }
    },
    {
      "cell_type": "code",
      "source": [
        "x = np.arange(20)\n",
        "x"
      ],
      "metadata": {
        "id": "YRDpL3ZzLa1V",
        "colab": {
          "base_uri": "https://localhost:8080/"
        },
        "outputId": "4bf71854-66f7-4464-8313-19b6f688bb83"
      },
      "execution_count": null,
      "outputs": [
        {
          "output_type": "execute_result",
          "data": {
            "text/plain": [
              "array([ 0,  1,  2,  3,  4,  5,  6,  7,  8,  9, 10, 11, 12, 13, 14, 15, 16,\n",
              "       17, 18, 19])"
            ]
          },
          "metadata": {},
          "execution_count": 32
        }
      ]
    },
    {
      "cell_type": "code",
      "source": [
        "x[:5]  # first five elements"
      ],
      "metadata": {
        "id": "1J9mkW48LcNL",
        "colab": {
          "base_uri": "https://localhost:8080/"
        },
        "outputId": "3f0ecac3-158e-4b5b-f473-f443c4332e94"
      },
      "execution_count": null,
      "outputs": [
        {
          "output_type": "execute_result",
          "data": {
            "text/plain": [
              "array([0, 1, 2, 3, 4])"
            ]
          },
          "metadata": {},
          "execution_count": 33
        }
      ]
    },
    {
      "cell_type": "code",
      "source": [
        "x[:10]  # elements after index Ten"
      ],
      "metadata": {
        "id": "fab1B-FYLgKV",
        "colab": {
          "base_uri": "https://localhost:8080/"
        },
        "outputId": "d1d5f56f-d23a-4aca-95b7-d6440ee79e32"
      },
      "execution_count": null,
      "outputs": [
        {
          "output_type": "execute_result",
          "data": {
            "text/plain": [
              "array([0, 1, 2, 3, 4, 5, 6, 7, 8, 9])"
            ]
          },
          "metadata": {},
          "execution_count": 34
        }
      ]
    },
    {
      "cell_type": "code",
      "source": [
        "x[4:10]  # sub-array of index 4, 5, 6"
      ],
      "metadata": {
        "id": "5N3cpw-ULiqV",
        "colab": {
          "base_uri": "https://localhost:8080/"
        },
        "outputId": "6d4ac78f-c702-40cf-c608-899969607fcc"
      },
      "execution_count": null,
      "outputs": [
        {
          "output_type": "execute_result",
          "data": {
            "text/plain": [
              "array([4, 5, 6, 7, 8, 9])"
            ]
          },
          "metadata": {},
          "execution_count": 35
        }
      ]
    },
    {
      "cell_type": "code",
      "source": [
        "x[::2]  # every other element"
      ],
      "metadata": {
        "id": "iNsOAUQDMDx_",
        "colab": {
          "base_uri": "https://localhost:8080/"
        },
        "outputId": "9a6646b8-b63d-42b9-e6ec-135d4ad9d1a3"
      },
      "execution_count": null,
      "outputs": [
        {
          "output_type": "execute_result",
          "data": {
            "text/plain": [
              "array([ 0,  2,  4,  6,  8, 10, 12, 14, 16, 18])"
            ]
          },
          "metadata": {},
          "execution_count": 36
        }
      ]
    },
    {
      "cell_type": "code",
      "source": [
        "x[2::2]  # every other element starting at index 2"
      ],
      "metadata": {
        "id": "yilqVhunSU5u",
        "colab": {
          "base_uri": "https://localhost:8080/"
        },
        "outputId": "36a13b62-8231-4d91-ed77-33555a063da6"
      },
      "execution_count": null,
      "outputs": [
        {
          "output_type": "execute_result",
          "data": {
            "text/plain": [
              "array([ 2,  4,  6,  8, 10, 12, 14, 16, 18])"
            ]
          },
          "metadata": {},
          "execution_count": 37
        }
      ]
    },
    {
      "cell_type": "markdown",
      "source": [
        "A potentially confusing case is when the ``step`` value is negative.\n",
        "In this case, the defaults for ``start`` and ``stop`` are swapped.\n",
        "This becomes a convenient way to reverse an array:"
      ],
      "metadata": {
        "id": "o6_sI_lsSlvK"
      }
    },
    {
      "cell_type": "code",
      "source": [
        "x[::-1]  # all elements, reversed"
      ],
      "metadata": {
        "id": "HtaibN6JSlJg",
        "colab": {
          "base_uri": "https://localhost:8080/"
        },
        "outputId": "f8a4e67b-2a66-47d5-9d90-7d6b440398fc"
      },
      "execution_count": null,
      "outputs": [
        {
          "output_type": "execute_result",
          "data": {
            "text/plain": [
              "array([19, 18, 17, 16, 15, 14, 13, 12, 11, 10,  9,  8,  7,  6,  5,  4,  3,\n",
              "        2,  1,  0])"
            ]
          },
          "metadata": {},
          "execution_count": 38
        }
      ]
    },
    {
      "cell_type": "code",
      "source": [
        "x[3::-2]  # reversed every other from index 3"
      ],
      "metadata": {
        "id": "wbfEp5IESpQT",
        "colab": {
          "base_uri": "https://localhost:8080/"
        },
        "outputId": "9052df82-b5e4-455f-caec-fa5f34f442da"
      },
      "execution_count": null,
      "outputs": [
        {
          "output_type": "execute_result",
          "data": {
            "text/plain": [
              "array([3, 1])"
            ]
          },
          "metadata": {},
          "execution_count": 39
        }
      ]
    },
    {
      "cell_type": "markdown",
      "source": [
        "### Multi-dimensional subarrays\n",
        "\n",
        "Multi-dimensional slices work in the same way, with multiple slices separated by commas.\n",
        "For example:"
      ],
      "metadata": {
        "id": "8IIrPEOAVPd_"
      }
    },
    {
      "cell_type": "code",
      "source": [
        "x2[:2, :3]  # This is sub Array of x2 with first two rows and first three columns"
      ],
      "metadata": {
        "id": "phD6ltHjS5b0",
        "colab": {
          "base_uri": "https://localhost:8080/"
        },
        "outputId": "b700cd67-562e-4991-e3df-2a7e5041bd76"
      },
      "execution_count": null,
      "outputs": [
        {
          "output_type": "execute_result",
          "data": {
            "text/plain": [
              "array([[12,  5,  2],\n",
              "       [ 7,  6,  8]])"
            ]
          },
          "metadata": {},
          "execution_count": 40
        }
      ]
    },
    {
      "cell_type": "code",
      "source": [
        "#Check how we can reverse the multidimension array\n",
        "x2[::-1, ::-1]"
      ],
      "metadata": {
        "id": "LE7O0SIfVa8F",
        "colab": {
          "base_uri": "https://localhost:8080/"
        },
        "outputId": "33631e58-2ede-47d4-c5ad-bb9e2653a975"
      },
      "execution_count": null,
      "outputs": [
        {
          "output_type": "execute_result",
          "data": {
            "text/plain": [
              "array([[ 7,  7,  6,  1],\n",
              "       [ 8,  8,  6,  7],\n",
              "       [ 4,  2,  5, 12]])"
            ]
          },
          "metadata": {},
          "execution_count": 41
        }
      ]
    },
    {
      "cell_type": "markdown",
      "source": [
        "#### Accessing array rows and columns\n",
        "\n",
        "One commonly needed routine is accessing of single rows or columns of an array.\n",
        "This can be done by combining indexing and slicing, using an empty slice marked by a single colon (``:``):"
      ],
      "metadata": {
        "id": "ikdPJUKUW0lU"
      }
    },
    {
      "cell_type": "code",
      "source": [
        "print(x2[:, 0])  # first column of x2"
      ],
      "metadata": {
        "id": "pmv7b_0jVa0Y",
        "colab": {
          "base_uri": "https://localhost:8080/"
        },
        "outputId": "56b31ba0-4887-4872-e1d5-97fb9f3a63a2"
      },
      "execution_count": null,
      "outputs": [
        {
          "output_type": "stream",
          "name": "stdout",
          "text": [
            "[12  7  1]\n"
          ]
        }
      ]
    },
    {
      "cell_type": "code",
      "source": [
        "print(x2[0, :])  # first row of x2"
      ],
      "metadata": {
        "id": "xB51GFTNW5b8",
        "colab": {
          "base_uri": "https://localhost:8080/"
        },
        "outputId": "1f091f0d-2ec9-4d00-a60a-70971a1c73b2"
      },
      "execution_count": null,
      "outputs": [
        {
          "output_type": "stream",
          "name": "stdout",
          "text": [
            "[12  5  2  4]\n"
          ]
        }
      ]
    },
    {
      "cell_type": "markdown",
      "source": [
        "### Subarrays as no-copy views\n",
        "\n",
        "One important–and extremely useful–thing to know about array slices is that they return *views* rather than *copies* of the array data.\n",
        "This is one area in which NumPy array slicing differs from Python list slicing: in lists, slices will be copies.\n",
        "Consider our two-dimensional array from before:"
      ],
      "metadata": {
        "id": "Z7qeID5QXLv_"
      }
    },
    {
      "cell_type": "code",
      "source": [
        "#Extract 2*2 sub array from x2\n",
        "x2_sub = x2[:2, :2]\n",
        "print(x2_sub)"
      ],
      "metadata": {
        "id": "YqS3iYj7XNgB",
        "colab": {
          "base_uri": "https://localhost:8080/"
        },
        "outputId": "facf57e6-56cb-42f9-9a4b-93a32ff1831c"
      },
      "execution_count": null,
      "outputs": [
        {
          "output_type": "stream",
          "name": "stdout",
          "text": [
            "[[12  5]\n",
            " [ 7  6]]\n"
          ]
        }
      ]
    },
    {
      "cell_type": "code",
      "source": [
        "x2_sub = x2[:2,:2]\n",
        "print(x2_sub)"
      ],
      "metadata": {
        "id": "Cu0tFyfcXZqp",
        "colab": {
          "base_uri": "https://localhost:8080/"
        },
        "outputId": "860ff2f5-fdca-472c-aad5-a8a31b41d13a"
      },
      "execution_count": null,
      "outputs": [
        {
          "output_type": "stream",
          "name": "stdout",
          "text": [
            "[[12  5]\n",
            " [ 7  6]]\n"
          ]
        }
      ]
    },
    {
      "cell_type": "markdown",
      "source": [
        "Despite the nice features of array views, it is sometimes useful to instead explicitly copy the data within an array or a subarray. This can be most easily done with the ``copy()`` method:"
      ],
      "metadata": {
        "id": "KuxFe4X4XrLA"
      }
    },
    {
      "cell_type": "code",
      "source": [
        "x2_sub[0, 0] = 42\n",
        "print(x2_sub)"
      ],
      "metadata": {
        "id": "SK11XTrXYqhl",
        "colab": {
          "base_uri": "https://localhost:8080/"
        },
        "outputId": "1cb02bda-34d9-4759-cb4e-ca35429ea9d4"
      },
      "execution_count": null,
      "outputs": [
        {
          "output_type": "stream",
          "name": "stdout",
          "text": [
            "[[42  5]\n",
            " [ 7  6]]\n"
          ]
        }
      ]
    },
    {
      "cell_type": "markdown",
      "source": [
        "## Array Concatenation and Splitting\n",
        "\n",
        "All of the preceding routines worked on single arrays. It's also possible to combine multiple arrays into one, and to conversely split a single array into multiple arrays. We'll take a look at those operations here.\n",
        "\n",
        "\n",
        "### Concatenation of arrays\n",
        "\n",
        "Concatenation, or joining of two arrays in NumPy, is primarily accomplished using the routines ``np.concatenate``, ``np.vstack``, and ``np.hstack``.\n",
        "``np.concatenate`` takes a tuple or list of arrays as its first argument, as we can see here:"
      ],
      "metadata": {
        "id": "weHsUSMJY1DT"
      }
    },
    {
      "cell_type": "code",
      "source": [
        "x = np.array([1, 2, 3])\n",
        "y = np.array([3, 2, 1])\n",
        "np.concatenate([x, y])"
      ],
      "metadata": {
        "id": "efGYrUJqZTkB",
        "colab": {
          "base_uri": "https://localhost:8080/"
        },
        "outputId": "591134c6-cb26-48c2-ba9e-e6e2b28fbd4e"
      },
      "execution_count": null,
      "outputs": [
        {
          "output_type": "execute_result",
          "data": {
            "text/plain": [
              "array([1, 2, 3, 3, 2, 1])"
            ]
          },
          "metadata": {},
          "execution_count": 47
        }
      ]
    },
    {
      "cell_type": "code",
      "source": [
        "grid = np.array([[1, 2, 3],\n",
        "                 [4, 5, 6]])"
      ],
      "metadata": {
        "id": "nIppqCTKZZ_k"
      },
      "execution_count": null,
      "outputs": []
    },
    {
      "cell_type": "code",
      "source": [
        "# concatenate along the first axis\n",
        "np.concatenate([grid, grid])"
      ],
      "metadata": {
        "id": "mSqvbZmeZbLK",
        "colab": {
          "base_uri": "https://localhost:8080/"
        },
        "outputId": "17c1104a-089b-4047-9365-f09b90252a18"
      },
      "execution_count": null,
      "outputs": [
        {
          "output_type": "execute_result",
          "data": {
            "text/plain": [
              "array([[1, 2, 3],\n",
              "       [4, 5, 6],\n",
              "       [1, 2, 3],\n",
              "       [4, 5, 6]])"
            ]
          },
          "metadata": {},
          "execution_count": 49
        }
      ]
    },
    {
      "cell_type": "code",
      "source": [
        "# concatenate along the second axis (zero-indexed)\n",
        "np.concatenate([grid, grid], axis=1)"
      ],
      "metadata": {
        "id": "TXZ2uJjEZeZX",
        "colab": {
          "base_uri": "https://localhost:8080/"
        },
        "outputId": "aae552bc-9c81-4553-860c-48921f6cd9e1"
      },
      "execution_count": null,
      "outputs": [
        {
          "output_type": "execute_result",
          "data": {
            "text/plain": [
              "array([[1, 2, 3, 1, 2, 3],\n",
              "       [4, 5, 6, 4, 5, 6]])"
            ]
          },
          "metadata": {},
          "execution_count": 50
        }
      ]
    },
    {
      "cell_type": "markdown",
      "source": [
        "When joining arrays of mixed dimensions, it can be clearer to use the ``np.vstack`` (vertical stack) and ``np.hstack`` (horizontal stack) functions as shown below:"
      ],
      "metadata": {
        "id": "V2_6-QWHZngr"
      }
    },
    {
      "cell_type": "code",
      "source": [
        "x = np.array([1, 2, 3])\n",
        "grid = np.array([[9, 8, 7],\n",
        "                 [6, 5, 4]])\n",
        "\n",
        "# vertically stack the arrays\n",
        "np.vstack([x, grid])"
      ],
      "metadata": {
        "id": "vEPmTdZ2ZzCS",
        "colab": {
          "base_uri": "https://localhost:8080/"
        },
        "outputId": "2bfd52b6-0793-4b2e-c25e-b6d2e0b77849"
      },
      "execution_count": null,
      "outputs": [
        {
          "output_type": "execute_result",
          "data": {
            "text/plain": [
              "array([[1, 2, 3],\n",
              "       [9, 8, 7],\n",
              "       [6, 5, 4]])"
            ]
          },
          "metadata": {},
          "execution_count": 51
        }
      ]
    },
    {
      "cell_type": "code",
      "source": [
        "# horizontally stack the arrays\n",
        "y = np.array([[99],\n",
        "              [99]])\n",
        "np.hstack([grid, y])"
      ],
      "metadata": {
        "id": "PWrrAOr-Z1s2",
        "colab": {
          "base_uri": "https://localhost:8080/"
        },
        "outputId": "0454fe5b-4fbc-49db-c887-c6283d449fe2"
      },
      "execution_count": null,
      "outputs": [
        {
          "output_type": "execute_result",
          "data": {
            "text/plain": [
              "array([[ 9,  8,  7, 99],\n",
              "       [ 6,  5,  4, 99]])"
            ]
          },
          "metadata": {},
          "execution_count": 52
        }
      ]
    },
    {
      "cell_type": "markdown",
      "source": [
        "### Splitting of arrays\n",
        "\n",
        "The opposite of concatenation is splitting, which is implemented by the functions ``np.split``, ``np.hsplit``, and ``np.vsplit``.  For each of these, we can pass a list of indices giving the split points:"
      ],
      "metadata": {
        "id": "bB5Ib1CsZ2rM"
      }
    },
    {
      "cell_type": "code",
      "source": [
        "x = [1, 2, 3, 99, 99, 3, 2, 1]\n",
        "x1, x2, x3 = np.split(x, [3, 5])\n",
        "print(x1, x2, x3)"
      ],
      "metadata": {
        "id": "TZTwODYMZ-1J",
        "colab": {
          "base_uri": "https://localhost:8080/"
        },
        "outputId": "62ef69c0-c522-4aba-8ee4-1fe392206ddc"
      },
      "execution_count": null,
      "outputs": [
        {
          "output_type": "stream",
          "name": "stdout",
          "text": [
            "[1 2 3] [99 99] [3 2 1]\n"
          ]
        }
      ]
    },
    {
      "cell_type": "markdown",
      "source": [
        "Notice that *N* split-points, leads to *N + 1* subarrays.\n",
        "The related functions ``np.hsplit`` and ``np.vsplit`` are similar:"
      ],
      "metadata": {
        "id": "dfhXzVNJaJF6"
      }
    },
    {
      "cell_type": "code",
      "source": [
        "grid = np.arange(16).reshape((4, 4))\n",
        "grid"
      ],
      "metadata": {
        "id": "j6Q3sbZmZ_kL",
        "colab": {
          "base_uri": "https://localhost:8080/"
        },
        "outputId": "c2eb0a4d-19fb-4fee-9fe4-bb9aae3cd642"
      },
      "execution_count": null,
      "outputs": [
        {
          "output_type": "execute_result",
          "data": {
            "text/plain": [
              "array([[ 0,  1,  2,  3],\n",
              "       [ 4,  5,  6,  7],\n",
              "       [ 8,  9, 10, 11],\n",
              "       [12, 13, 14, 15]])"
            ]
          },
          "metadata": {},
          "execution_count": 113
        }
      ]
    },
    {
      "cell_type": "code",
      "source": [
        "upper, lower = np.vsplit(grid, [6])\n",
        "print(upper)\n",
        "print(lower)"
      ],
      "metadata": {
        "id": "DNG8leinaMMa",
        "colab": {
          "base_uri": "https://localhost:8080/"
        },
        "outputId": "1171b466-30a8-4d58-ebc7-c5e52cd17830"
      },
      "execution_count": null,
      "outputs": [
        {
          "output_type": "stream",
          "name": "stdout",
          "text": [
            "[[9 8 7]\n",
            " [6 5 4]]\n",
            "[]\n"
          ]
        }
      ]
    },
    {
      "cell_type": "code",
      "source": [
        "left, right = np.hsplit(grid, [2])\n",
        "print(left)\n",
        "print(right)"
      ],
      "metadata": {
        "id": "I94NlVPXaOfI",
        "colab": {
          "base_uri": "https://localhost:8080/"
        },
        "outputId": "4e2434d8-e043-418b-ec33-93d685eb3668"
      },
      "execution_count": null,
      "outputs": [
        {
          "output_type": "stream",
          "name": "stdout",
          "text": [
            "[[9 8]\n",
            " [6 5]]\n",
            "[[7]\n",
            " [4]]\n"
          ]
        }
      ]
    },
    {
      "cell_type": "markdown",
      "source": [
        "## Introducing UFuncs\n",
        "\n",
        "For many types of operations, NumPy provides a convenient interface into just this kind of statically typed, compiled routine. This is known as a *vectorized* operation.\n",
        "This can be accomplished by simply performing an operation on the array, which will then be applied to each element.\n",
        "This vectorized approach is designed to push the loop into the compiled layer that underlies NumPy, leading to much faster execution."
      ],
      "metadata": {
        "id": "OzROt5Aa_Qxx"
      }
    },
    {
      "cell_type": "code",
      "source": [
        "#Consider following loop based implementation to ind reciprocals for each element of an array\n",
        "np.random.seed(0)\n",
        "\n",
        "def compute_reciprocals(values):\n",
        "    output = np.empty(len(values))\n",
        "    for i in range(len(values)):\n",
        "        output[i] = 1.0 / values[i]\n",
        "    return output\n",
        "        \n",
        "big_array = np.random.randint(1, 100, size=1000000)\n",
        "%timeit compute_reciprocals(big_array)"
      ],
      "metadata": {
        "id": "aW_dwQab_dPF",
        "colab": {
          "base_uri": "https://localhost:8080/"
        },
        "outputId": "b2dff3e0-3f6f-4c73-80d2-7873c5727c98"
      },
      "execution_count": null,
      "outputs": [
        {
          "output_type": "stream",
          "name": "stdout",
          "text": [
            "2.44 s ± 514 ms per loop (mean ± std. dev. of 7 runs, 1 loop each)\n"
          ]
        }
      ]
    },
    {
      "cell_type": "code",
      "source": [
        "#Same operatoin using UFuncs applying '/' over array elements\n",
        "%timeit (1.0 / big_array)"
      ],
      "metadata": {
        "id": "C1qvC-0X_2Ue",
        "colab": {
          "base_uri": "https://localhost:8080/"
        },
        "outputId": "2bb80a3d-7b95-4f27-8a22-70c3ef46b96b"
      },
      "execution_count": null,
      "outputs": [
        {
          "output_type": "stream",
          "name": "stdout",
          "text": [
            "1.85 ms ± 225 µs per loop (mean ± std. dev. of 7 runs, 1000 loops each)\n"
          ]
        }
      ]
    },
    {
      "cell_type": "markdown",
      "source": [
        "Vectorized operations in NumPy are implemented via *ufuncs*, whose main purpose is to quickly execute repeated operations on values in NumPy arrays. UFuncs are extremely flexible – before we saw an operation between a scalar and an array, but we can also operate between two arrays as well as multidimentional arrays.\n",
        "\n",
        "Computations using vectorization through ufuncs are nearly always more efficient than their counterpart implemented using Python loops, especially as the arrays grow in size.\n",
        "Any time you see such a loop in a Python script, you should consider whether it can be replaced with a vectorized expression."
      ],
      "metadata": {
        "id": "zWEw0XwOATnq"
      }
    },
    {
      "cell_type": "markdown",
      "source": [
        "## Exploring NumPy's UFuncs\n",
        "\n",
        "Ufuncs exist in two flavors: *unary ufuncs*, which operate on a single input, and *binary ufuncs*, which operate on two inputs.\n",
        "\n",
        "\n",
        "### Array arithmetic\n",
        "\n",
        "NumPy's ufuncs feel very natural to use because they make use of Python's native arithmetic operators.\n",
        "The standard addition, subtraction, multiplication, and division can all be used:"
      ],
      "metadata": {
        "id": "LmvTAwQxBeu9"
      }
    },
    {
      "cell_type": "code",
      "source": [
        "x = np.arange(4)\n",
        "print(\"x     =\", x)\n",
        "print(\"x + 5 =\", x + 5)\n",
        "print(\"x - 5 =\", x - 5)\n",
        "print(\"x * 2 =\", x * 2)\n",
        "print(\"x / 2 =\", x / 2)\n",
        "print(\"x // 2 =\", x // 2)  # floor division\n",
        "#some advanced arithmatic expression   -(x/2+1)^2 \n",
        "-(0.5*x + 1) ** 2"
      ],
      "metadata": {
        "id": "nR25dPabASNy",
        "colab": {
          "base_uri": "https://localhost:8080/"
        },
        "outputId": "d9f41e2d-89dd-4c15-8b65-57c710acbb93"
      },
      "execution_count": null,
      "outputs": [
        {
          "output_type": "stream",
          "name": "stdout",
          "text": [
            "x     = [0 1 2 3]\n",
            "x + 5 = [5 6 7 8]\n",
            "x - 5 = [-5 -4 -3 -2]\n",
            "x * 2 = [0 2 4 6]\n",
            "x / 2 = [0.  0.5 1.  1.5]\n",
            "x // 2 = [0 0 1 1]\n"
          ]
        },
        {
          "output_type": "execute_result",
          "data": {
            "text/plain": [
              "array([-1.  , -2.25, -4.  , -6.25])"
            ]
          },
          "metadata": {},
          "execution_count": 58
        }
      ]
    },
    {
      "cell_type": "markdown",
      "source": [
        "The following table lists the arithmetic operators implemented in NumPy:\n",
        "\n",
        "| Operator\t    | Equivalent ufunc    | Description                           |\n",
        "|---------------|---------------------|---------------------------------------|\n",
        "|``+``          |``np.add``           |Addition (e.g., ``1 + 1 = 2``)         |\n",
        "|``-``          |``np.subtract``      |Subtraction (e.g., ``3 - 2 = 1``)      |\n",
        "|``-``          |``np.negative``      |Unary negation (e.g., ``-2``)          |\n",
        "|``*``          |``np.multiply``      |Multiplication (e.g., ``2 * 3 = 6``)   |\n",
        "|``/``          |``np.divide``        |Division (e.g., ``3 / 2 = 1.5``)       |\n",
        "|``//``         |``np.floor_divide``  |Floor division (e.g., ``3 // 2 = 1``)  |\n",
        "|``**``         |``np.power``         |Exponentiation (e.g., ``2 ** 3 = 8``)  |\n",
        "|``%``          |``np.mod``           |Modulus/remainder (e.g., ``9 % 4 = 1``)|"
      ],
      "metadata": {
        "id": "a0WbgBQiB-i4"
      }
    },
    {
      "cell_type": "markdown",
      "source": [
        "### Specialized ufuncs\n",
        "\n",
        "NumPy has many more ufuncs available, including hyperbolic trig functions, bitwise arithmetic, comparison operators, conversions from radians to degrees, rounding and remainders, and much more.\n",
        "A look through the NumPy documentation reveals a lot of interesting functionality.\n",
        "\n",
        "Another excellent source for more specialized and obscure ufuncs is the submodule ``scipy.special``.\n",
        "If you want to compute some obscure mathematical function on your data, chances are it is implemented in ``scipy.special``.\n",
        "There are far too many functions to list them all, but the following snippet shows a couple that might come up in a statistics context:"
      ],
      "metadata": {
        "id": "igbeuwzCCSNq"
      }
    },
    {
      "cell_type": "code",
      "source": [
        "#importing package special from scipy package\n",
        "from scipy import special"
      ],
      "metadata": {
        "id": "lLWR2D17CXup"
      },
      "execution_count": null,
      "outputs": []
    },
    {
      "cell_type": "code",
      "source": [
        "# Gamma functions (generalized factorials) and related functions\n",
        "x = [1, 5, 10]\n",
        "print(\"gamma(x)     =\", special.gamma(x))\n",
        "print(\"ln|gamma(x)| =\", special.gammaln(x))\n",
        "print(\"beta(x, 2)   =\", special.beta(x, 2))"
      ],
      "metadata": {
        "id": "zZIUIA_TCm3N",
        "colab": {
          "base_uri": "https://localhost:8080/"
        },
        "outputId": "81ab3c02-3d14-4b85-e55d-0a570bb5adee"
      },
      "execution_count": null,
      "outputs": [
        {
          "output_type": "stream",
          "name": "stdout",
          "text": [
            "gamma(x)     = [1.0000e+00 2.4000e+01 3.6288e+05]\n",
            "ln|gamma(x)| = [ 0.          3.17805383 12.80182748]\n",
            "beta(x, 2)   = [0.5        0.03333333 0.00909091]\n"
          ]
        }
      ]
    },
    {
      "cell_type": "markdown",
      "source": [
        "Many other special functions like error functions, beta integral can also be evaluated."
      ],
      "metadata": {
        "id": "NLnCoznWCoE9"
      }
    },
    {
      "cell_type": "markdown",
      "source": [
        "### Aggregates\n",
        "\n",
        "For binary ufuncs, there are some interesting aggregates that can be computed directly from the object.\n",
        "For example, if we'd like to *reduce* an array with a particular operation, we can use the ``reduce`` method of any ufunc.\n",
        "A reduce repeatedly applies a given operation to the elements of an array until only a single result remains.\n",
        "\n",
        "For example, calling ``reduce`` on the ``add`` ufunc returns the sum of all elements in the array:"
      ],
      "metadata": {
        "id": "IQRLOEyhC7h_"
      }
    },
    {
      "cell_type": "code",
      "source": [
        "x = np.arange(1, 6)\n",
        "np.add.reduce(x)"
      ],
      "metadata": {
        "id": "S-tqV3rWDTQT",
        "colab": {
          "base_uri": "https://localhost:8080/"
        },
        "outputId": "ca96c225-6c7e-462d-dcee-09b30e1bfdc7"
      },
      "execution_count": null,
      "outputs": [
        {
          "output_type": "execute_result",
          "data": {
            "text/plain": [
              "15"
            ]
          },
          "metadata": {},
          "execution_count": 62
        }
      ]
    },
    {
      "cell_type": "code",
      "source": [
        "np.multiply.reduce(x)"
      ],
      "metadata": {
        "id": "eyx37Xz9DUEK",
        "colab": {
          "base_uri": "https://localhost:8080/"
        },
        "outputId": "e83276fb-e2b9-4586-fc38-6c2cd6451c24"
      },
      "execution_count": null,
      "outputs": [
        {
          "output_type": "execute_result",
          "data": {
            "text/plain": [
              "120"
            ]
          },
          "metadata": {},
          "execution_count": 63
        }
      ]
    },
    {
      "cell_type": "code",
      "source": [
        "#note the difference in output with accumulate\n",
        "np.add.accumulate(x)"
      ],
      "metadata": {
        "id": "clon3tBiDWql",
        "colab": {
          "base_uri": "https://localhost:8080/"
        },
        "outputId": "a2accfa4-f5b8-48de-b733-835aed5b6ea9"
      },
      "execution_count": null,
      "outputs": [
        {
          "output_type": "execute_result",
          "data": {
            "text/plain": [
              "array([ 1,  3,  6, 10, 15])"
            ]
          },
          "metadata": {},
          "execution_count": 64
        }
      ]
    },
    {
      "cell_type": "markdown",
      "source": [
        "**Answer Following Questions :** (You should either type the answer in separate text cell or code cell as per questoins asked)\n",
        "          \n",
        "\n",
        "\n",
        "1.   What are UFuncs un numpy? \n",
        "2.   Which are various attributes of numy arrays object?\n",
        "3.   If you have 3 dimentional array in numpy object Obj how to identify its size, type and dimentions ?\n",
        "4.   Consider Obj object has dimentions 3*4*2  and you want to convert it to 4*6 shape exlpain how will you do it ? Show this using a code cell, taking an example of 3*4*2 np array of random int between 1 and 50. \n",
        "5.   Consider above 4*6 array, sample 2*3 sub array from left  bottom of this array store the result in varible subObj variable.\n",
        "\n",
        "**Conclusion :**  Thus we have learned basics of Numpy library for storing and efficiently processing any external data into python execution pipeline.  "
      ],
      "metadata": {
        "id": "m56WFV4aELVz"
      }
    },
    {
      "cell_type": "markdown",
      "source": [
        "1.What are UFuncs in numpy?\n",
        "\n",
        "**Ans**:\n",
        "a.ufuncs stands for \"Universal Functions\" and they are NumPy functions that operate on the ndarray object.\n",
        "ufuncs are used to implement vectorization in NumPy which is way faster than iterating over elements.\n",
        "\n",
        "b. Universal functions in Numpy are simple mathematical functions. It is just a term that we gave to mathematical functions in the Numpy library. Numpy provides various universal functions that cover a wide variety of operations. \n",
        "These functions include standard trigonometric functions, functions for arithmetic operations, handling complex numbers, statistical functions, etc. Universal functions have various characteristics which are as follows- \n",
        " \n",
        "\n",
        "c. These functions operates on ndarray (N-dimensional array) i.e Numpy’s array class.\n",
        "It performs fast element-wise array operations.\n",
        "It supports various features like array broadcasting, type casting etc.\n",
        "Numpy, universal functions are objects those belongs to numpy.ufunc class.\n",
        "Python functions can also be created as a universal function using frompyfunc library function. \n",
        "\n",
        "2.Which are various attributes of numy arrays object?\n",
        "\n",
        "**Ans**: \n",
        "(a) ndarray.ndim\n",
        "ndim represents the number of dimensions (axes) of the ndarray.\n",
        "\n",
        "e.g. for this 2-dimensional array [ [3,4,6], [0,8,1]], value of ndim will be 2. This ndarray has two dimensions (axes) - rows (axis=0) and columns (axis=1)\n",
        "\n",
        "(b) ndarray.shape\n",
        "shape is a tuple of integers representing the size of the ndarray in each dimension.\n",
        "\n",
        "e.g. for this 2-dimensional array [ [3,4,6], [0,8,1]], value of shape will be (2,3) because this ndarray has two dimensions - rows and columns - and the number of rows is 2 and the number of columns is 3\n",
        "\n",
        "(c) ndarray.size\n",
        "size is the total number of elements in the ndarray. It is equal to the product of elements of the shape. e.g. for this 2-dimensional array [ [3,4,6], [0,8,1]], shape is (2,3), size will be product (multiplication) of 2 and 3 i.e. (2*3) = 6. Hence, the size is 6.\n",
        "\n",
        "(d) ndarray.dtype\n",
        "dtype tells the data type of the elements of a NumPy array. In NumPy array, all the elements have the same data type.\n",
        "\n",
        "e.g. for this NumPy array [ [3,4,6], [0,8,1]], dtype will be int64\n",
        "\n",
        "(e) ndarray.itemsize\n",
        "itemsize returns the size (in bytes) of each element of a NumPy array.\n",
        "\n",
        "e.g. for this NumPy array [ [3,4,6], [0,8,1]], itemsize will be 8, because this array consists of integers and size of integer (in bytes) is 8 bytes.\n",
        "\n",
        "3.If you have 3 dimentional array in numpy object Obj how to identify its size, type and dimentions ?\n",
        "\n",
        "**Ans**:You can get the number of dimensions, shape (length of each dimension), and size (number of all elements) of the NumPy array with ndim , shape , and size attributes of numpy.ndarray . The built-in function len() returns the size of the first dimension. Use the following one- to three-dimensional arrays as examples.\n",
        "\n",
        "4.Consider Obj object has dimentions 342 and you want to convert it to 46 shape exlpain how will you do it ? Show this using a code cell, taking an example of 3*4*2 np array of random int between 1 and\n",
        "**Ans**  \n"
      ],
      "metadata": {
        "id": "Ta16JaCcCiC5"
      }
    },
    {
      "cell_type": "code",
      "source": [
        "# Extract a 2x3 sub-array from the bottom left of the reshaped array \n",
        "sub_array = subObj[2:4, 0:3] \n",
        "print(\"Sub-array:\\n\", sub_array) "
      ],
      "metadata": {
        "colab": {
          "base_uri": "https://localhost:8080/"
        },
        "id": "s9I8BMe5_YLi",
        "outputId": "66b8256f-3613-4a77-f198-979557270ef6"
      },
      "execution_count": null,
      "outputs": [
        {
          "output_type": "stream",
          "name": "stdout",
          "text": [
            "Sub-array:\n",
            " [[44 39 33]\n",
            " [ 7 42 27]]\n"
          ]
        }
      ]
    },
    {
      "cell_type": "markdown",
      "source": [
        "\n",
        "\n",
        "\n",
        "\n",
        "5.Consider above 4*6 array, sample 2*3 sub array from left bottom of this array store the result in varible subObj variable.\n",
        "\n",
        "**Ans**"
      ],
      "metadata": {
        "id": "x9cUEsgpN391"
      }
    },
    {
      "cell_type": "code",
      "source": [
        "import numpy as np \n",
        "# Create a 3x4x2 array of random integers between 1 and 50 \n",
        "obj = np.random.randint(1, 50, size=(3, 4, 2)) \n",
        "print(\"Original object:\\n\", obj) \n",
        "# Reshape the array to 4x6 shape \n",
        "subObj = obj.reshape((4, 6)) \n",
        "print(\"Reshaped object:\\n\", subObj) \n"
      ],
      "metadata": {
        "colab": {
          "base_uri": "https://localhost:8080/"
        },
        "id": "7_B8NQxs_JX6",
        "outputId": "5aed4b87-5e03-4936-ff1b-7302bc575dc3"
      },
      "execution_count": null,
      "outputs": [
        {
          "output_type": "stream",
          "name": "stdout",
          "text": [
            "Original object:\n",
            " [[[17  1]\n",
            "  [14 20]\n",
            "  [45 36]\n",
            "  [30 12]]\n",
            "\n",
            " [[28 29]\n",
            "  [22  6]\n",
            "  [44 39]\n",
            "  [33 44]]\n",
            "\n",
            " [[18 25]\n",
            "  [ 7 42]\n",
            "  [27 26]\n",
            "  [24 12]]]\n",
            "Reshaped object:\n",
            " [[17  1 14 20 45 36]\n",
            " [30 12 28 29 22  6]\n",
            " [44 39 33 44 18 25]\n",
            " [ 7 42 27 26 24 12]]\n"
          ]
        }
      ]
    },
    {
      "cell_type": "markdown",
      "source": [
        "\n",
        "\n",
        "CONCLUSION:Thus we have learned the basics of Numpy library for storing and efficiently processing any external data into python execution pipeline. \n",
        "Colab paid pr\n"
      ],
      "metadata": {
        "id": "1T7LTVTTN6VS"
      }
    }
  ]
}